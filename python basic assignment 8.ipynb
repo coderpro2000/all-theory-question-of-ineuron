{
 "cells": [
  {
   "cell_type": "code",
   "execution_count": null,
   "metadata": {},
   "outputs": [],
   "source": [
    "PyInputPlus is not a part of the Python Standard Library, so you must install it separately ... inputChoice() \n",
    "Ensures the user enters one of the provided choices."
   ]
  },
  {
   "cell_type": "code",
   "execution_count": null,
   "metadata": {},
   "outputs": [],
   "source": [
    "You can import the module with import pyinputplus as pyip so that you can enter a shorter name when calling the module's\n",
    "functions. PyInputPlus has functions for entering a variety of input, including strings, numbers, dates, yes/no, \n",
    "True/False, emails, and files."
   ]
  },
  {
   "cell_type": "code",
   "execution_count": null,
   "metadata": {},
   "outputs": [],
   "source": [
    "+4. Adesiyan Joseph the difference is in the data-type when you use the first one the program expects an integer value \n",
    "as input but in the latter it expects a float value i.e number containing a decimal. ..."
   ]
  },
  {
   "cell_type": "code",
   "execution_count": null,
   "metadata": {},
   "outputs": [],
   "source": [
    "PyInputPlus is a Python module used for taking inputs with additional validation features. PyInputPlus will keep\n",
    "asking the user for text until they enter valid input. ... We can allow blank values as valid input by setting the\n",
    "blank ... 0"
   ]
  },
  {
   "cell_type": "code",
   "execution_count": null,
   "metadata": {},
   "outputs": [],
   "source": [
    "We can set a list of regex strings to the allowRegexes parameter to the PyInputPlus functions. In the code above, we\n",
    "allow phone numbers to be entered as the input value by setting a list of regex with the phone number regex to it"
   ]
  },
  {
   "cell_type": "code",
   "execution_count": null,
   "metadata": {},
   "outputs": [],
   "source": [
    "Input validation code checks that values entered by the user, such as text from the input() ... What does inputStr(limit=3)\n",
    "do if blank input is entered three times"
   ]
  },
  {
   "cell_type": "code",
   "execution_count": null,
   "metadata": {},
   "outputs": [],
   "source": [
    "response = pyip.inputNum(limit=2, default='N/A') hello 'hello' is not a number. world ... What does inputStr(limit=3) do if blank input is entered three times"
   ]
  }
 ],
 "metadata": {
  "kernelspec": {
   "display_name": "Python 3",
   "language": "python",
   "name": "python3"
  },
  "language_info": {
   "codemirror_mode": {
    "name": "ipython",
    "version": 3
   },
   "file_extension": ".py",
   "mimetype": "text/x-python",
   "name": "python",
   "nbconvert_exporter": "python",
   "pygments_lexer": "ipython3",
   "version": "3.7.6"
  }
 },
 "nbformat": 4,
 "nbformat_minor": 4
}
