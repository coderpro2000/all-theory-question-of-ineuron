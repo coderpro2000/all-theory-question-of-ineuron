{
 "cells": [
  {
   "cell_type": "code",
   "execution_count": null,
   "metadata": {},
   "outputs": [],
   "source": [
    "The re. compile() function returns Regex objects. Why are raw strings often used when creating Regex objects"
   ]
  },
  {
   "cell_type": "code",
   "execution_count": null,
   "metadata": {},
   "outputs": [],
   "source": [
    "Raw strings are used so that backslashes do not have to be escaped. ... The group() method returns strings of the matched \n",
    "text."
   ]
  },
  {
   "cell_type": "code",
   "execution_count": null,
   "metadata": {},
   "outputs": [],
   "source": [
    "The search() method searches a string for a specified value, and returns the position of the match. The search value \n",
    "can be string or a regular expression. This method returns -1 if no match is found."
   ]
  },
  {
   "cell_type": "code",
   "execution_count": null,
   "metadata": {},
   "outputs": [],
   "source": [
    " The group() method returns strings of the matched text.\n"
   ]
  },
  {
   "cell_type": "code",
   "execution_count": null,
   "metadata": {},
   "outputs": [],
   "source": [
    "The regex \\d\\d\\d-\\d\\d\\d-\\d\\d\\d\\d is used by Python to match the same text pattern ... phone number is (415) 555-4242.') \n",
    ">>> mo.group(1) '(415)' >>> mo.group(2) ... In the regex created from r'(\\d\\d\\d)-(\\d\\d\\d-\\d\\d\\d\\d)', what does group 0 \n",
    "cover"
   ]
  },
  {
   "cell_type": "code",
   "execution_count": null,
   "metadata": {},
   "outputs": [],
   "source": [
    "Regular expressions are specially encoded text strings used as patterns for matching ... that matches any digit from 0 to 9\n",
    ", to something a bit more complicated, like: ... code, or with or without hyphens or dots (periods) to separate the numbers\n",
    "    "
   ]
  },
  {
   "cell_type": "code",
   "execution_count": null,
   "metadata": {},
   "outputs": [],
   "source": [
    "findall() Return all non-overlapping matches of pattern in string, as a list of strings. The string is scanned \n",
    "left-to-right, and matches are returned in the order found."
   ]
  },
  {
   "cell_type": "code",
   "execution_count": null,
   "metadata": {},
   "outputs": [],
   "source": [
    "Each character in a regular expression (that is, each character in the string describing its pattern) is either a \n",
    "metacharacter, having a special meaning, or a regular character that has a literal meaning. For example, in the\n",
    "regex b. , 'b' is a literal character that matches just 'b', while '."
   ]
  },
  {
   "cell_type": "code",
   "execution_count": null,
   "metadata": {},
   "outputs": [],
   "source": [
    "Regular expressions (shortened as \"regex\") are special strings representing a pattern to be matched in a search operation.\n",
    "... For instance, in a regular expression the metacharacter ^ means \"not\". So, while \"a\" means \"match lowercase a\", \"^a\"\n",
    "means \"do not match lowercase a\"."
   ]
  },
  {
   "cell_type": "code",
   "execution_count": null,
   "metadata": {},
   "outputs": [],
   "source": [
    "ne line of regex can easily replace several dozen lines of programming codes. ... A Sequence of Characters (or String): \n",
    "    Strings can be matched via combining ... 1 2 3 4 5 6 7 8 9 10 11 12 13 14 15 16 17 18 19 20 21 22 23 24 25 26 27 \n",
    "    28 ... They are different from ^ and $ when it comes to matching input with multiple lines."
   ]
  },
  {
   "cell_type": "code",
   "execution_count": null,
   "metadata": {},
   "outputs": [],
   "source": [
    "The fundamental building blocks of a regex are patterns that match a single character. Most characters, including \n",
    "all letters ( a-z and A-Z ) and digits ( 0-9 ), match itself. For example, the regex x matches substring \"x\" ;\n",
    "z matches \"z\" ; and 9 matches \"9\""
   ]
  },
  {
   "cell_type": "code",
   "execution_count": null,
   "metadata": {},
   "outputs": [],
   "source": [
    "horthand character classes can be used both inside and outside the square brackets. \\s\\d matches a whitespace character \n",
    "followed by a digit. [\\s\\d] matches a single character that is either whitespace or a digit. When applied to 1 + 2 = 3,\n",
    "the former regex matches 2 (space two), while the latter matches 1 (one)."
   ]
  },
  {
   "cell_type": "code",
   "execution_count": null,
   "metadata": {},
   "outputs": [],
   "source": [
    "In a regular expression, shorthand character classes match a single character from a ... While support for \\d, \\s, and \\w \n",
    "is quite universal, there are some regex flavors that ... Java 8 and JGsoft V2 changed the meaning of this token anyway\n",
    ". ... To avoid confusion, the above paragraph uses \\cK to represent the vertical tab."
   ]
  },
  {
   "cell_type": "code",
   "execution_count": null,
   "metadata": {},
   "outputs": [],
   "source": [
    "*1 , * is greedy - it will match all the way to the end, and then backtrack until it can match 1 , leaving you with 1010000000001 . . *? is non-greedy. * will match nothing, but then will try to match extra characters until it matches 1 , eventually matching 101 "
   ]
  },
  {
   "cell_type": "code",
   "execution_count": null,
   "metadata": {},
   "outputs": [],
   "source": [
    "Getting started with regex may not be easy due to its geeky syntax, but it is certainly ... A Sequence of Characters (or String): Strings can be matched via combining a ... e.g., [0-9] matches any digit; [A-Za-z] matches any uppercase or lowercase letters. ... known as character class (or bracket list), encloses a list of characters."
   ]
  },
  {
   "cell_type": "code",
   "execution_count": null,
   "metadata": {},
   "outputs": [],
   "source": [
    "There are two ways to make Regular Expression case-insensitive:\n",
    "Using CASE_INSENSITIVE flag.\n",
    "Using modifier."
   ]
  },
  {
   "cell_type": "code",
   "execution_count": null,
   "metadata": {},
   "outputs": [],
   "source": [
    "If re. DOTALL is passed as the second argument to re. compile(), then the dot will also match newline characters."
   ]
  },
  {
   "cell_type": "code",
   "execution_count": null,
   "metadata": {},
   "outputs": [],
   "source": [
    "VERBOSE as the second argument to re. compile() allow you to do? The re. VERBOSE argument allows you to add whitespace and comments to the string passed to re."
   ]
  },
  {
   "cell_type": "code",
   "execution_count": null,
   "metadata": {},
   "outputs": [],
   "source": []
  }
 ],
 "metadata": {
  "kernelspec": {
   "display_name": "Python 3",
   "language": "python",
   "name": "python3"
  },
  "language_info": {
   "codemirror_mode": {
    "name": "ipython",
    "version": 3
   },
   "file_extension": ".py",
   "mimetype": "text/x-python",
   "name": "python",
   "nbconvert_exporter": "python",
   "pygments_lexer": "ipython3",
   "version": "3.7.6"
  }
 },
 "nbformat": 4,
 "nbformat_minor": 4
}
